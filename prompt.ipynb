{
 "cells": [
  {
   "cell_type": "markdown",
   "metadata": {},
   "source": [
    "### Will a Customer Accept the Coupon?\n",
    "\n",
    "**Context**\n",
    "\n",
    "Imagine driving through town and a coupon is delivered to your cell phone for a restaraunt near where you are driving. Would you accept that coupon and take a short detour to the restaraunt? Would you accept the coupon but use it on a sunbsequent trip? Would you ignore the coupon entirely? What if the coupon was for a bar instead of a restaraunt? What about a coffee house? Would you accept a bar coupon with a minor passenger in the car? What about if it was just you and your partner in the car? Would weather impact the rate of acceptance? What about the time of day?\n",
    "\n",
    "Obviously, proximity to the business is a factor on whether the coupon is delivered to the driver or not, but what are the factors that determine whether a driver accepts the coupon once it is delivered to them? How would you determine whether a driver is likely to accept a coupon?\n",
    "\n",
    "**Overview**\n",
    "\n",
    "The goal of this project is to use what you know about visualizations and probability distributions to distinguish between customers who accepted a driving coupon versus those that did not.\n",
    "\n",
    "**Data**\n",
    "\n",
    "This data comes to us from the UCI Machine Learning repository and was collected via a survey on Amazon Mechanical Turk. The survey describes different driving scenarios including the destination, current time, weather, passenger, etc., and then ask the person whether he will accept the coupon if he is the driver. Answers that the user will drive there ‘right away’ or ‘later before the coupon expires’ are labeled as ‘Y = 1’ and answers ‘no, I do not want the coupon’ are labeled as ‘Y = 0’.  There are five different types of coupons -- less expensive restaurants (under \\\\$20), coffee houses, carry out & take away, bar, and more expensive restaurants (\\\\$20 - \\\\$50). "
   ]
  },
  {
   "cell_type": "markdown",
   "metadata": {},
   "source": [
    "**Deliverables**\n",
    "\n",
    "Your final product should be a brief report that highlights the differences between customers who did and did not accept the coupons.  To explore the data you will utilize your knowledge of plotting, statistical summaries, and visualization using Python. You will publish your findings in a public facing github repository as your first portfolio piece. \n",
    "\n",
    "\n",
    "\n"
   ]
  },
  {
   "cell_type": "markdown",
   "metadata": {},
   "source": [
    "### Data Description\n",
    "Keep in mind that these values mentioned below are average values.\n",
    "\n",
    "The attributes of this data set include:\n",
    "1. User attributes\n",
    "    -  Gender: male, female\n",
    "    -  Age: below 21, 21 to 25, 26 to 30, etc.\n",
    "    -  Marital Status: single, married partner, unmarried partner, or widowed\n",
    "    -  Number of children: 0, 1, or more than 1\n",
    "    -  Education: high school, bachelors degree, associates degree, or graduate degree\n",
    "    -  Occupation: architecture & engineering, business & financial, etc.\n",
    "    -  Annual income: less than \\\\$12500, \\\\$12500 - \\\\$24999, \\\\$25000 - \\\\$37499, etc.\n",
    "    -  Number of times that he/she goes to a bar: 0, less than 1, 1 to 3, 4 to 8 or greater than 8\n",
    "    -  Number of times that he/she buys takeaway food: 0, less than 1, 1 to 3, 4 to 8 or greater\n",
    "    than 8\n",
    "    -  Number of times that he/she goes to a coffee house: 0, less than 1, 1 to 3, 4 to 8 or\n",
    "    greater than 8\n",
    "    -  Number of times that he/she eats at a restaurant with average expense less than \\\\$20 per\n",
    "    person: 0, less than 1, 1 to 3, 4 to 8 or greater than 8\n",
    "    -  Number of times that he/she goes to a bar: 0, less than 1, 1 to 3, 4 to 8 or greater than 8\n",
    "    \n",
    "\n",
    "2. Contextual attributes\n",
    "    - Driving destination: home, work, or no urgent destination\n",
    "    - Location of user, coupon and destination: we provide a map to show the geographical\n",
    "    location of the user, destination, and the venue, and we mark the distance between each\n",
    "    two places with time of driving. The user can see whether the venue is in the same\n",
    "    direction as the destination.\n",
    "    - Weather: sunny, rainy, or snowy\n",
    "    - Temperature: 30F, 55F, or 80F\n",
    "    - Time: 10AM, 2PM, or 6PM\n",
    "    - Passenger: alone, partner, kid(s), or friend(s)\n",
    "\n",
    "\n",
    "3. Coupon attributes\n",
    "    - time before it expires: 2 hours or one day"
   ]
  },
  {
   "cell_type": "code",
   "execution_count": 297,
   "metadata": {},
   "outputs": [],
   "source": [
    "import matplotlib.pyplot as plt\n",
    "import seaborn as sns\n",
    "import pandas as pd\n",
    "import numpy as np\n",
    "import plotly.express as px"
   ]
  },
  {
   "cell_type": "markdown",
   "metadata": {},
   "source": [
    "### Problems\n",
    "\n",
    "Use the prompts below to get started with your data analysis.  \n",
    "\n",
    "1. Read in the `coupons.csv` file.\n",
    "\n",
    "\n"
   ]
  },
  {
   "cell_type": "code",
   "execution_count": 343,
   "metadata": {},
   "outputs": [],
   "source": [
    "data = pd.read_csv('data/coupons.csv')"
   ]
  },
  {
   "cell_type": "code",
   "execution_count": 344,
   "metadata": {},
   "outputs": [
    {
     "data": {
      "text/html": [
       "<div>\n",
       "<style scoped>\n",
       "    .dataframe tbody tr th:only-of-type {\n",
       "        vertical-align: middle;\n",
       "    }\n",
       "\n",
       "    .dataframe tbody tr th {\n",
       "        vertical-align: top;\n",
       "    }\n",
       "\n",
       "    .dataframe thead th {\n",
       "        text-align: right;\n",
       "    }\n",
       "</style>\n",
       "<table border=\"1\" class=\"dataframe\">\n",
       "  <thead>\n",
       "    <tr style=\"text-align: right;\">\n",
       "      <th></th>\n",
       "      <th>destination</th>\n",
       "      <th>passanger</th>\n",
       "      <th>weather</th>\n",
       "      <th>temperature</th>\n",
       "      <th>time</th>\n",
       "      <th>coupon</th>\n",
       "      <th>expiration</th>\n",
       "      <th>gender</th>\n",
       "      <th>age</th>\n",
       "      <th>maritalStatus</th>\n",
       "      <th>...</th>\n",
       "      <th>CoffeeHouse</th>\n",
       "      <th>CarryAway</th>\n",
       "      <th>RestaurantLessThan20</th>\n",
       "      <th>Restaurant20To50</th>\n",
       "      <th>toCoupon_GEQ5min</th>\n",
       "      <th>toCoupon_GEQ15min</th>\n",
       "      <th>toCoupon_GEQ25min</th>\n",
       "      <th>direction_same</th>\n",
       "      <th>direction_opp</th>\n",
       "      <th>Y</th>\n",
       "    </tr>\n",
       "  </thead>\n",
       "  <tbody>\n",
       "    <tr>\n",
       "      <th>0</th>\n",
       "      <td>No Urgent Place</td>\n",
       "      <td>Alone</td>\n",
       "      <td>Sunny</td>\n",
       "      <td>55</td>\n",
       "      <td>2PM</td>\n",
       "      <td>Restaurant(&lt;20)</td>\n",
       "      <td>1d</td>\n",
       "      <td>Female</td>\n",
       "      <td>21</td>\n",
       "      <td>Unmarried partner</td>\n",
       "      <td>...</td>\n",
       "      <td>never</td>\n",
       "      <td>NaN</td>\n",
       "      <td>4~8</td>\n",
       "      <td>1~3</td>\n",
       "      <td>1</td>\n",
       "      <td>0</td>\n",
       "      <td>0</td>\n",
       "      <td>0</td>\n",
       "      <td>1</td>\n",
       "      <td>1</td>\n",
       "    </tr>\n",
       "    <tr>\n",
       "      <th>1</th>\n",
       "      <td>No Urgent Place</td>\n",
       "      <td>Friend(s)</td>\n",
       "      <td>Sunny</td>\n",
       "      <td>80</td>\n",
       "      <td>10AM</td>\n",
       "      <td>Coffee House</td>\n",
       "      <td>2h</td>\n",
       "      <td>Female</td>\n",
       "      <td>21</td>\n",
       "      <td>Unmarried partner</td>\n",
       "      <td>...</td>\n",
       "      <td>never</td>\n",
       "      <td>NaN</td>\n",
       "      <td>4~8</td>\n",
       "      <td>1~3</td>\n",
       "      <td>1</td>\n",
       "      <td>0</td>\n",
       "      <td>0</td>\n",
       "      <td>0</td>\n",
       "      <td>1</td>\n",
       "      <td>0</td>\n",
       "    </tr>\n",
       "    <tr>\n",
       "      <th>2</th>\n",
       "      <td>No Urgent Place</td>\n",
       "      <td>Friend(s)</td>\n",
       "      <td>Sunny</td>\n",
       "      <td>80</td>\n",
       "      <td>10AM</td>\n",
       "      <td>Carry out &amp; Take away</td>\n",
       "      <td>2h</td>\n",
       "      <td>Female</td>\n",
       "      <td>21</td>\n",
       "      <td>Unmarried partner</td>\n",
       "      <td>...</td>\n",
       "      <td>never</td>\n",
       "      <td>NaN</td>\n",
       "      <td>4~8</td>\n",
       "      <td>1~3</td>\n",
       "      <td>1</td>\n",
       "      <td>1</td>\n",
       "      <td>0</td>\n",
       "      <td>0</td>\n",
       "      <td>1</td>\n",
       "      <td>1</td>\n",
       "    </tr>\n",
       "    <tr>\n",
       "      <th>3</th>\n",
       "      <td>No Urgent Place</td>\n",
       "      <td>Friend(s)</td>\n",
       "      <td>Sunny</td>\n",
       "      <td>80</td>\n",
       "      <td>2PM</td>\n",
       "      <td>Coffee House</td>\n",
       "      <td>2h</td>\n",
       "      <td>Female</td>\n",
       "      <td>21</td>\n",
       "      <td>Unmarried partner</td>\n",
       "      <td>...</td>\n",
       "      <td>never</td>\n",
       "      <td>NaN</td>\n",
       "      <td>4~8</td>\n",
       "      <td>1~3</td>\n",
       "      <td>1</td>\n",
       "      <td>1</td>\n",
       "      <td>0</td>\n",
       "      <td>0</td>\n",
       "      <td>1</td>\n",
       "      <td>0</td>\n",
       "    </tr>\n",
       "    <tr>\n",
       "      <th>4</th>\n",
       "      <td>No Urgent Place</td>\n",
       "      <td>Friend(s)</td>\n",
       "      <td>Sunny</td>\n",
       "      <td>80</td>\n",
       "      <td>2PM</td>\n",
       "      <td>Coffee House</td>\n",
       "      <td>1d</td>\n",
       "      <td>Female</td>\n",
       "      <td>21</td>\n",
       "      <td>Unmarried partner</td>\n",
       "      <td>...</td>\n",
       "      <td>never</td>\n",
       "      <td>NaN</td>\n",
       "      <td>4~8</td>\n",
       "      <td>1~3</td>\n",
       "      <td>1</td>\n",
       "      <td>1</td>\n",
       "      <td>0</td>\n",
       "      <td>0</td>\n",
       "      <td>1</td>\n",
       "      <td>0</td>\n",
       "    </tr>\n",
       "  </tbody>\n",
       "</table>\n",
       "<p>5 rows × 26 columns</p>\n",
       "</div>"
      ],
      "text/plain": [
       "       destination  passanger weather  temperature  time  \\\n",
       "0  No Urgent Place      Alone   Sunny           55   2PM   \n",
       "1  No Urgent Place  Friend(s)   Sunny           80  10AM   \n",
       "2  No Urgent Place  Friend(s)   Sunny           80  10AM   \n",
       "3  No Urgent Place  Friend(s)   Sunny           80   2PM   \n",
       "4  No Urgent Place  Friend(s)   Sunny           80   2PM   \n",
       "\n",
       "                  coupon expiration  gender age      maritalStatus  ...  \\\n",
       "0        Restaurant(<20)         1d  Female  21  Unmarried partner  ...   \n",
       "1           Coffee House         2h  Female  21  Unmarried partner  ...   \n",
       "2  Carry out & Take away         2h  Female  21  Unmarried partner  ...   \n",
       "3           Coffee House         2h  Female  21  Unmarried partner  ...   \n",
       "4           Coffee House         1d  Female  21  Unmarried partner  ...   \n",
       "\n",
       "   CoffeeHouse CarryAway RestaurantLessThan20 Restaurant20To50  \\\n",
       "0        never       NaN                  4~8              1~3   \n",
       "1        never       NaN                  4~8              1~3   \n",
       "2        never       NaN                  4~8              1~3   \n",
       "3        never       NaN                  4~8              1~3   \n",
       "4        never       NaN                  4~8              1~3   \n",
       "\n",
       "  toCoupon_GEQ5min toCoupon_GEQ15min toCoupon_GEQ25min direction_same  \\\n",
       "0                1                 0                 0              0   \n",
       "1                1                 0                 0              0   \n",
       "2                1                 1                 0              0   \n",
       "3                1                 1                 0              0   \n",
       "4                1                 1                 0              0   \n",
       "\n",
       "  direction_opp  Y  \n",
       "0             1  1  \n",
       "1             1  0  \n",
       "2             1  1  \n",
       "3             1  0  \n",
       "4             1  0  \n",
       "\n",
       "[5 rows x 26 columns]"
      ]
     },
     "execution_count": 344,
     "metadata": {},
     "output_type": "execute_result"
    }
   ],
   "source": [
    "data.head()"
   ]
  },
  {
   "cell_type": "code",
   "execution_count": 345,
   "metadata": {},
   "outputs": [
    {
     "name": "stdout",
     "output_type": "stream",
     "text": [
      "<class 'pandas.core.frame.DataFrame'>\n",
      "RangeIndex: 12684 entries, 0 to 12683\n",
      "Data columns (total 26 columns):\n",
      " #   Column                Non-Null Count  Dtype \n",
      "---  ------                --------------  ----- \n",
      " 0   destination           12684 non-null  object\n",
      " 1   passanger             12684 non-null  object\n",
      " 2   weather               12684 non-null  object\n",
      " 3   temperature           12684 non-null  int64 \n",
      " 4   time                  12684 non-null  object\n",
      " 5   coupon                12684 non-null  object\n",
      " 6   expiration            12684 non-null  object\n",
      " 7   gender                12684 non-null  object\n",
      " 8   age                   12684 non-null  object\n",
      " 9   maritalStatus         12684 non-null  object\n",
      " 10  has_children          12684 non-null  int64 \n",
      " 11  education             12684 non-null  object\n",
      " 12  occupation            12684 non-null  object\n",
      " 13  income                12684 non-null  object\n",
      " 14  car                   108 non-null    object\n",
      " 15  Bar                   12577 non-null  object\n",
      " 16  CoffeeHouse           12467 non-null  object\n",
      " 17  CarryAway             12533 non-null  object\n",
      " 18  RestaurantLessThan20  12554 non-null  object\n",
      " 19  Restaurant20To50      12495 non-null  object\n",
      " 20  toCoupon_GEQ5min      12684 non-null  int64 \n",
      " 21  toCoupon_GEQ15min     12684 non-null  int64 \n",
      " 22  toCoupon_GEQ25min     12684 non-null  int64 \n",
      " 23  direction_same        12684 non-null  int64 \n",
      " 24  direction_opp         12684 non-null  int64 \n",
      " 25  Y                     12684 non-null  int64 \n",
      "dtypes: int64(8), object(18)\n",
      "memory usage: 2.5+ MB\n"
     ]
    }
   ],
   "source": [
    "# 1.1 Getting information for each column\n",
    "data.info()"
   ]
  },
  {
   "cell_type": "markdown",
   "metadata": {},
   "source": [
    "2. Investigate the dataset for missing or problematic data."
   ]
  },
  {
   "cell_type": "code",
   "execution_count": 346,
   "metadata": {},
   "outputs": [
    {
     "data": {
      "text/plain": [
       "destination                 0\n",
       "passanger                   0\n",
       "weather                     0\n",
       "temperature                 0\n",
       "time                        0\n",
       "coupon                      0\n",
       "expiration                  0\n",
       "gender                      0\n",
       "age                         0\n",
       "maritalStatus               0\n",
       "has_children                0\n",
       "education                   0\n",
       "occupation                  0\n",
       "income                      0\n",
       "car                     12576\n",
       "Bar                       107\n",
       "CoffeeHouse               217\n",
       "CarryAway                 151\n",
       "RestaurantLessThan20      130\n",
       "Restaurant20To50          189\n",
       "toCoupon_GEQ5min            0\n",
       "toCoupon_GEQ15min           0\n",
       "toCoupon_GEQ25min           0\n",
       "direction_same              0\n",
       "direction_opp               0\n",
       "Y                           0\n",
       "dtype: int64"
      ]
     },
     "execution_count": 346,
     "metadata": {},
     "output_type": "execute_result"
    }
   ],
   "source": [
    "# 2.1 Looking for missing values\n",
    "data.isnull().sum()"
   ]
  },
  {
   "cell_type": "code",
   "execution_count": 347,
   "metadata": {},
   "outputs": [
    {
     "name": "stdout",
     "output_type": "stream",
     "text": [
      "<class 'pandas.core.frame.DataFrame'>\n",
      "RangeIndex: 12684 entries, 0 to 12683\n",
      "Data columns (total 26 columns):\n",
      " #   Column                Non-Null Count  Dtype \n",
      "---  ------                --------------  ----- \n",
      " 0   destination           12684 non-null  object\n",
      " 1   passenger             12684 non-null  object\n",
      " 2   weather               12684 non-null  object\n",
      " 3   temperature           12684 non-null  int64 \n",
      " 4   time                  12684 non-null  object\n",
      " 5   coupon                12684 non-null  object\n",
      " 6   expiration            12684 non-null  object\n",
      " 7   gender                12684 non-null  object\n",
      " 8   age                   12684 non-null  object\n",
      " 9   maritalStatus         12684 non-null  object\n",
      " 10  hasChildren           12684 non-null  int64 \n",
      " 11  education             12684 non-null  object\n",
      " 12  occupation            12684 non-null  object\n",
      " 13  income                12684 non-null  object\n",
      " 14  car                   108 non-null    object\n",
      " 15  bar                   12577 non-null  object\n",
      " 16  coffeeHouse           12467 non-null  object\n",
      " 17  carryAway             12533 non-null  object\n",
      " 18  restaurantLessThan20  12554 non-null  object\n",
      " 19  restaurant20To50      12495 non-null  object\n",
      " 20  toCouponGEQ5min       12684 non-null  int64 \n",
      " 21  toCouponGEQ15min      12684 non-null  int64 \n",
      " 22  toCouponGEQ25min      12684 non-null  int64 \n",
      " 23  directionSame         12684 non-null  int64 \n",
      " 24  directionOpp          12684 non-null  int64 \n",
      " 25  couponAccepted        12684 non-null  int64 \n",
      "dtypes: int64(8), object(18)\n",
      "memory usage: 2.5+ MB\n"
     ]
    }
   ],
   "source": [
    "# 2.2 Relabeling some columns for best manipulation\n",
    "df = data.rename(columns =  \n",
    "    { 'passanger': 'passenger',                  \n",
    "      'has_children': 'hasChildren',\n",
    "      'Bar': 'bar',\n",
    "      'CoffeeHouse': 'coffeeHouse',\n",
    "      'CarryAway': 'carryAway',\n",
    "      'RestaurantLessThan20': 'restaurantLessThan20',\n",
    "      'Restaurant20To50': 'restaurant20To50',\n",
    "      'toCoupon_GEQ5min': 'toCouponGEQ5min',\n",
    "      'toCoupon_GEQ15min': 'toCouponGEQ15min',\n",
    "      'toCoupon_GEQ25min': 'toCouponGEQ25min',\n",
    "      'direction_same': 'directionSame',\n",
    "      'direction_opp': 'directionOpp',\n",
    "      'Y': 'couponAccepted'\n",
    "    })\n",
    "df.info()"
   ]
  },
  {
   "cell_type": "markdown",
   "metadata": {},
   "source": [
    "3. Decide what to do about your missing data -- drop, replace, other..."
   ]
  },
  {
   "cell_type": "code",
   "execution_count": 348,
   "metadata": {},
   "outputs": [],
   "source": [
    "### 3.1 Removing car column as this is deprecable as the 99% of values are missing\n",
    "df = df.drop(['car'], axis=1)"
   ]
  },
  {
   "cell_type": "code",
   "execution_count": 349,
   "metadata": {},
   "outputs": [
    {
     "data": {
      "text/plain": [
       "destination\n",
       "No Urgent Place    6283\n",
       "Home               3237\n",
       "Work               3164\n",
       "Name: count, dtype: int64"
      ]
     },
     "execution_count": 349,
     "metadata": {},
     "output_type": "execute_result"
    }
   ],
   "source": [
    "### 3.2 Evaluating possible values for columns\n",
    "df['destination'].value_counts() # This is OK"
   ]
  },
  {
   "cell_type": "code",
   "execution_count": 350,
   "metadata": {},
   "outputs": [
    {
     "data": {
      "text/plain": [
       "passenger\n",
       "Alone        7305\n",
       "Friend(s)    3298\n",
       "Partner      1075\n",
       "Kid(s)       1006\n",
       "Name: count, dtype: int64"
      ]
     },
     "execution_count": 350,
     "metadata": {},
     "output_type": "execute_result"
    }
   ],
   "source": [
    "### 3.3 Evaluating possible values for columns\n",
    "df['passenger'].value_counts() # Replacing characters \"(\" \")"
   ]
  },
  {
   "cell_type": "code",
   "execution_count": 351,
   "metadata": {},
   "outputs": [
    {
     "data": {
      "text/plain": [
       "passenger\n",
       "Alone      7305\n",
       "Friends    3298\n",
       "Partner    1075\n",
       "Kids       1006\n",
       "Name: count, dtype: int64"
      ]
     },
     "execution_count": 351,
     "metadata": {},
     "output_type": "execute_result"
    }
   ],
   "source": [
    "### 3.3.1 Replacing special characters\n",
    "df['passenger'] = df['passenger'].str.replace('(', '').str.replace(')', '')\n",
    "df['passenger'].value_counts()"
   ]
  },
  {
   "cell_type": "code",
   "execution_count": 352,
   "metadata": {},
   "outputs": [
    {
     "data": {
      "text/plain": [
       "weather\n",
       "Sunny    10069\n",
       "Snowy     1405\n",
       "Rainy     1210\n",
       "Name: count, dtype: int64"
      ]
     },
     "execution_count": 352,
     "metadata": {},
     "output_type": "execute_result"
    }
   ],
   "source": [
    "df['weather'].value_counts()"
   ]
  },
  {
   "cell_type": "code",
   "execution_count": 353,
   "metadata": {},
   "outputs": [
    {
     "data": {
      "text/plain": [
       "temperature\n",
       "80    6528\n",
       "55    3840\n",
       "30    2316\n",
       "Name: count, dtype: int64"
      ]
     },
     "execution_count": 353,
     "metadata": {},
     "output_type": "execute_result"
    }
   ],
   "source": [
    "df['temperature'].value_counts()"
   ]
  },
  {
   "cell_type": "code",
   "execution_count": 354,
   "metadata": {},
   "outputs": [
    {
     "data": {
      "text/plain": [
       "time\n",
       "6PM     3230\n",
       "7AM     3164\n",
       "10AM    2275\n",
       "2PM     2009\n",
       "10PM    2006\n",
       "Name: count, dtype: int64"
      ]
     },
     "execution_count": 354,
     "metadata": {},
     "output_type": "execute_result"
    }
   ],
   "source": [
    "df['time'].value_counts()"
   ]
  },
  {
   "cell_type": "code",
   "execution_count": 355,
   "metadata": {},
   "outputs": [
    {
     "data": {
      "text/plain": [
       "coupon\n",
       "Coffee House             3996\n",
       "Restaurant(<20)          2786\n",
       "Carry out & Take away    2393\n",
       "Bar                      2017\n",
       "Restaurant(20-50)        1492\n",
       "Name: count, dtype: int64"
      ]
     },
     "execution_count": 355,
     "metadata": {},
     "output_type": "execute_result"
    }
   ],
   "source": [
    "df['coupon'].value_counts()"
   ]
  },
  {
   "cell_type": "code",
   "execution_count": 356,
   "metadata": {},
   "outputs": [
    {
     "data": {
      "text/plain": [
       "coupon\n",
       "Coffee House             3996\n",
       "Restaurant(<20)          2786\n",
       "Carry out & Take away    2393\n",
       "Bar                      2017\n",
       "Restaurant(20-50)        1492\n",
       "Name: count, dtype: int64"
      ]
     },
     "execution_count": 356,
     "metadata": {},
     "output_type": "execute_result"
    }
   ],
   "source": [
    "df['coupon'].value_counts()"
   ]
  },
  {
   "cell_type": "code",
   "execution_count": 357,
   "metadata": {},
   "outputs": [
    {
     "data": {
      "text/plain": [
       "expiration\n",
       "1d    7091\n",
       "2h    5593\n",
       "Name: count, dtype: int64"
      ]
     },
     "execution_count": 357,
     "metadata": {},
     "output_type": "execute_result"
    }
   ],
   "source": [
    "df['expiration'].value_counts()"
   ]
  },
  {
   "cell_type": "code",
   "execution_count": 358,
   "metadata": {},
   "outputs": [
    {
     "name": "stdout",
     "output_type": "stream",
     "text": [
      "expirationHours\n",
      "24    7091\n",
      "2     5593\n",
      "Name: count, dtype: int64\n"
     ]
    }
   ],
   "source": [
    "# Converting expiration in hours \n",
    "df['expiration'] = df['expiration'].str.replace('1d', '24').str.replace('2h', '2')\n",
    "df = df.rename(columns = { 'expiration': 'expirationHours' })\n",
    "df['expirationHours'] = pd.to_numeric(df['expirationHours'])\n",
    "print(df['expirationHours'].value_counts())"
   ]
  },
  {
   "cell_type": "code",
   "execution_count": 359,
   "metadata": {},
   "outputs": [
    {
     "data": {
      "text/plain": [
       "gender\n",
       "Female    6511\n",
       "Male      6173\n",
       "Name: count, dtype: int64"
      ]
     },
     "execution_count": 359,
     "metadata": {},
     "output_type": "execute_result"
    }
   ],
   "source": [
    "df['gender'].value_counts()"
   ]
  },
  {
   "cell_type": "code",
   "execution_count": 360,
   "metadata": {},
   "outputs": [
    {
     "data": {
      "text/plain": [
       "age\n",
       "21         2653\n",
       "26         2559\n",
       "31         2039\n",
       "50plus     1788\n",
       "36         1319\n",
       "41         1093\n",
       "46          686\n",
       "below21     547\n",
       "Name: count, dtype: int64"
      ]
     },
     "execution_count": 360,
     "metadata": {},
     "output_type": "execute_result"
    }
   ],
   "source": [
    "df['age'].value_counts()"
   ]
  },
  {
   "cell_type": "code",
   "execution_count": 361,
   "metadata": {},
   "outputs": [
    {
     "name": "stdout",
     "output_type": "stream",
     "text": [
      "age\n",
      "21    2653\n",
      "26    2559\n",
      "31    2039\n",
      "51    1788\n",
      "36    1319\n",
      "41    1093\n",
      "46     686\n",
      "16     547\n",
      "Name: count, dtype: int64\n"
     ]
    }
   ],
   "source": [
    "# Replacing characters to convert age into number\n",
    "df['age'] = df['age'].str.replace('50plus', '51').str.replace('below21', '16')\n",
    "df['age'] = pd.to_numeric(df['age'])\n",
    "print(df['age'].value_counts())"
   ]
  },
  {
   "cell_type": "code",
   "execution_count": 362,
   "metadata": {},
   "outputs": [
    {
     "data": {
      "text/plain": [
       "maritalStatus\n",
       "Married partner      5100\n",
       "Single               4752\n",
       "Unmarried partner    2186\n",
       "Divorced              516\n",
       "Widowed               130\n",
       "Name: count, dtype: int64"
      ]
     },
     "execution_count": 362,
     "metadata": {},
     "output_type": "execute_result"
    }
   ],
   "source": [
    "df['maritalStatus'].value_counts()"
   ]
  },
  {
   "cell_type": "code",
   "execution_count": 363,
   "metadata": {},
   "outputs": [
    {
     "data": {
      "text/plain": [
       "hasChildren\n",
       "0    7431\n",
       "1    5253\n",
       "Name: count, dtype: int64"
      ]
     },
     "execution_count": 363,
     "metadata": {},
     "output_type": "execute_result"
    }
   ],
   "source": [
    "df['hasChildren'].value_counts()"
   ]
  },
  {
   "cell_type": "code",
   "execution_count": 364,
   "metadata": {},
   "outputs": [
    {
     "data": {
      "text/plain": [
       "education\n",
       "Some college - no degree                  4351\n",
       "Bachelors degree                          4335\n",
       "Graduate degree (Masters or Doctorate)    1852\n",
       "Associates degree                         1153\n",
       "High School Graduate                       905\n",
       "Some High School                            88\n",
       "Name: count, dtype: int64"
      ]
     },
     "execution_count": 364,
     "metadata": {},
     "output_type": "execute_result"
    }
   ],
   "source": [
    "df['education'].value_counts()"
   ]
  },
  {
   "cell_type": "code",
   "execution_count": 365,
   "metadata": {},
   "outputs": [
    {
     "data": {
      "text/plain": [
       "occupation\n",
       "Unemployed                                   1870\n",
       "Student                                      1584\n",
       "Computer & Mathematical                      1408\n",
       "Sales & Related                              1093\n",
       "Education&Training&Library                    943\n",
       "Management                                    838\n",
       "Office & Administrative Support               639\n",
       "Arts Design Entertainment Sports & Media      629\n",
       "Business & Financial                          544\n",
       "Retired                                       495\n",
       "Food Preparation & Serving Related            298\n",
       "Healthcare Practitioners & Technical          244\n",
       "Healthcare Support                            242\n",
       "Community & Social Services                   241\n",
       "Legal                                         219\n",
       "Transportation & Material Moving              218\n",
       "Architecture & Engineering                    175\n",
       "Personal Care & Service                       175\n",
       "Protective Service                            175\n",
       "Life Physical Social Science                  170\n",
       "Construction & Extraction                     154\n",
       "Installation Maintenance & Repair             133\n",
       "Production Occupations                        110\n",
       "Building & Grounds Cleaning & Maintenance      44\n",
       "Farming Fishing & Forestry                     43\n",
       "Name: count, dtype: int64"
      ]
     },
     "execution_count": 365,
     "metadata": {},
     "output_type": "execute_result"
    }
   ],
   "source": [
    "df['occupation'].value_counts()"
   ]
  },
  {
   "cell_type": "code",
   "execution_count": 366,
   "metadata": {},
   "outputs": [
    {
     "data": {
      "text/plain": [
       "income\n",
       "$25000 - $37499     2013\n",
       "$12500 - $24999     1831\n",
       "$37500 - $49999     1805\n",
       "$100000 or More     1736\n",
       "$50000 - $62499     1659\n",
       "Less than $12500    1042\n",
       "$87500 - $99999      895\n",
       "$75000 - $87499      857\n",
       "$62500 - $74999      846\n",
       "Name: count, dtype: int64"
      ]
     },
     "execution_count": 366,
     "metadata": {},
     "output_type": "execute_result"
    }
   ],
   "source": [
    "df['income'].value_counts()"
   ]
  },
  {
   "cell_type": "code",
   "execution_count": 367,
   "metadata": {},
   "outputs": [
    {
     "name": "stdout",
     "output_type": "stream",
     "text": [
      "income\n",
      "25000-37499    2013\n",
      "12500-24999    1831\n",
      "37500-49999    1805\n",
      "100000         1736\n",
      "50000-62499    1659\n",
      "0-12500        1042\n",
      "87500-99999     895\n",
      "75000-87499     857\n",
      "62500-74999     846\n",
      "Name: count, dtype: int64\n"
     ]
    }
   ],
   "source": [
    "# Replacing abnormal ranges for income\n",
    "df['income'] = df['income'].str.replace('Less than ', '$0 - ').str.replace(' or More', '')\n",
    "df['income'] = df['income'].str.replace('$', '').str.replace(' ', '')\n",
    "print(df['income'].value_counts())"
   ]
  },
  {
   "cell_type": "code",
   "execution_count": 371,
   "metadata": {},
   "outputs": [
    {
     "name": "stdout",
     "output_type": "stream",
     "text": [
      "lowerIncome\n",
      "25000     2013\n",
      "12500     1831\n",
      "37500     1805\n",
      "100000    1736\n",
      "50000     1659\n",
      "0         1042\n",
      "87500      895\n",
      "75000      857\n",
      "62500      846\n",
      "Name: count, dtype: int64\n"
     ]
    }
   ],
   "source": [
    "# Getting the lower range for salary\n",
    "def fixIncome(x):\n",
    "    result = int(x[0])  \n",
    "    return result\n",
    "\n",
    "df['lowerIncome'] = df['income'].str.split('-').apply(fixIncome)\n",
    "print(df['lowerIncome'].value_counts())"
   ]
  },
  {
   "cell_type": "code",
   "execution_count": 372,
   "metadata": {},
   "outputs": [
    {
     "data": {
      "text/plain": [
       "bar\n",
       "never    5197\n",
       "less1    3482\n",
       "1~3      2473\n",
       "4~8      1076\n",
       "gt8       349\n",
       "Name: count, dtype: int64"
      ]
     },
     "execution_count": 372,
     "metadata": {},
     "output_type": "execute_result"
    }
   ],
   "source": [
    "df['bar'].value_counts()"
   ]
  },
  {
   "cell_type": "code",
   "execution_count": 373,
   "metadata": {},
   "outputs": [
    {
     "data": {
      "text/plain": [
       "coffeeHouse\n",
       "less1    3385\n",
       "1~3      3225\n",
       "never    2962\n",
       "4~8      1784\n",
       "gt8      1111\n",
       "Name: count, dtype: int64"
      ]
     },
     "execution_count": 373,
     "metadata": {},
     "output_type": "execute_result"
    }
   ],
   "source": [
    "df['coffeeHouse'].value_counts()"
   ]
  },
  {
   "cell_type": "code",
   "execution_count": 374,
   "metadata": {},
   "outputs": [
    {
     "data": {
      "text/plain": [
       "carryAway\n",
       "1~3      4672\n",
       "4~8      4258\n",
       "less1    1856\n",
       "gt8      1594\n",
       "never     153\n",
       "Name: count, dtype: int64"
      ]
     },
     "execution_count": 374,
     "metadata": {},
     "output_type": "execute_result"
    }
   ],
   "source": [
    "df['carryAway'].value_counts()"
   ]
  },
  {
   "cell_type": "code",
   "execution_count": 375,
   "metadata": {},
   "outputs": [
    {
     "data": {
      "text/plain": [
       "restaurantLessThan20\n",
       "1~3      5376\n",
       "4~8      3580\n",
       "less1    2093\n",
       "gt8      1285\n",
       "never     220\n",
       "Name: count, dtype: int64"
      ]
     },
     "execution_count": 375,
     "metadata": {},
     "output_type": "execute_result"
    }
   ],
   "source": [
    "df['restaurantLessThan20'].value_counts()"
   ]
  },
  {
   "cell_type": "code",
   "execution_count": 376,
   "metadata": {},
   "outputs": [
    {
     "data": {
      "text/plain": [
       "restaurant20To50\n",
       "less1    6077\n",
       "1~3      3290\n",
       "never    2136\n",
       "4~8       728\n",
       "gt8       264\n",
       "Name: count, dtype: int64"
      ]
     },
     "execution_count": 376,
     "metadata": {},
     "output_type": "execute_result"
    }
   ],
   "source": [
    "df['restaurant20To50'].value_counts()"
   ]
  },
  {
   "cell_type": "code",
   "execution_count": 377,
   "metadata": {},
   "outputs": [
    {
     "data": {
      "text/plain": [
       "toCouponGEQ5min\n",
       "1    12684\n",
       "Name: count, dtype: int64"
      ]
     },
     "execution_count": 377,
     "metadata": {},
     "output_type": "execute_result"
    }
   ],
   "source": [
    "df['toCouponGEQ5min'].value_counts()"
   ]
  },
  {
   "cell_type": "code",
   "execution_count": 378,
   "metadata": {},
   "outputs": [
    {
     "data": {
      "text/plain": [
       "toCouponGEQ15min\n",
       "1    7122\n",
       "0    5562\n",
       "Name: count, dtype: int64"
      ]
     },
     "execution_count": 378,
     "metadata": {},
     "output_type": "execute_result"
    }
   ],
   "source": [
    "df['toCouponGEQ15min'].value_counts()"
   ]
  },
  {
   "cell_type": "code",
   "execution_count": 379,
   "metadata": {},
   "outputs": [
    {
     "data": {
      "text/plain": [
       "toCouponGEQ25min\n",
       "0    11173\n",
       "1     1511\n",
       "Name: count, dtype: int64"
      ]
     },
     "execution_count": 379,
     "metadata": {},
     "output_type": "execute_result"
    }
   ],
   "source": [
    "df['toCouponGEQ25min'].value_counts()"
   ]
  },
  {
   "cell_type": "code",
   "execution_count": 380,
   "metadata": {},
   "outputs": [
    {
     "data": {
      "text/plain": [
       "directionSame\n",
       "0    9960\n",
       "1    2724\n",
       "Name: count, dtype: int64"
      ]
     },
     "execution_count": 380,
     "metadata": {},
     "output_type": "execute_result"
    }
   ],
   "source": [
    "df['directionSame'].value_counts()"
   ]
  },
  {
   "cell_type": "code",
   "execution_count": 381,
   "metadata": {},
   "outputs": [
    {
     "data": {
      "text/plain": [
       "directionOpp\n",
       "1    9960\n",
       "0    2724\n",
       "Name: count, dtype: int64"
      ]
     },
     "execution_count": 381,
     "metadata": {},
     "output_type": "execute_result"
    }
   ],
   "source": [
    "df['directionOpp'].value_counts()"
   ]
  },
  {
   "cell_type": "code",
   "execution_count": 382,
   "metadata": {},
   "outputs": [
    {
     "data": {
      "text/plain": [
       "couponAccepted\n",
       "1    7210\n",
       "0    5474\n",
       "Name: count, dtype: int64"
      ]
     },
     "execution_count": 382,
     "metadata": {},
     "output_type": "execute_result"
    }
   ],
   "source": [
    "df['couponAccepted'].value_counts()"
   ]
  },
  {
   "cell_type": "code",
   "execution_count": 383,
   "metadata": {},
   "outputs": [
    {
     "name": "stdout",
     "output_type": "stream",
     "text": [
      "couponAccepted\n",
      "Yes    7210\n",
      "No     5474\n",
      "Name: count, dtype: int64\n"
     ]
    }
   ],
   "source": [
    "df['couponAccepted'] = df['couponAccepted'].astype(str).str.replace('1', 'Yes').str.replace('0', 'No')\n",
    "print(df['couponAccepted'].value_counts())"
   ]
  },
  {
   "cell_type": "markdown",
   "metadata": {},
   "source": [
    "4. What proportion of the total observations chose to accept the coupon? \n",
    "\n"
   ]
  },
  {
   "cell_type": "code",
   "execution_count": 405,
   "metadata": {},
   "outputs": [
    {
     "name": "stdout",
     "output_type": "stream",
     "text": [
      "The proportion accepting coupon is:  56.84326710816777\n",
      "7210\n",
      "12684\n"
     ]
    }
   ],
   "source": [
    "proportionAcceptingCoupon = df.query('couponAccepted == \"Yes\"').shape[0] / df.shape[0]  * 100\n",
    "\n",
    "print(\"The proportion accepting coupon is: \", proportionAcceptingCoupon)\n",
    "print(df.query('couponAccepted == \"Yes\"').shape[0])\n",
    "print(df.shape[0])\n"
   ]
  },
  {
   "cell_type": "markdown",
   "metadata": {},
   "source": [
    "**Answer:**\n",
    "\n",
    "The proportion of accepted coupons in general for the data provided is: `56.84`"
   ]
  },
  {
   "cell_type": "markdown",
   "metadata": {},
   "source": [
    "5. Use a bar plot to visualize the `coupon` column."
   ]
  },
  {
   "cell_type": "code",
   "execution_count": 133,
   "metadata": {},
   "outputs": [
    {
     "name": "stdout",
     "output_type": "stream",
     "text": [
      "coupon                 couponAccepted  destination\n",
      "Bar                    No              1190           1\n",
      "                       Yes             827            1\n",
      "Carry out & Take away  No              633            1\n",
      "                       Yes             1760           1\n",
      "Coffee House           No              2001           1\n",
      "                       Yes             1995           1\n",
      "Restaurant(20-50)      No              834            1\n",
      "                       Yes             658            1\n",
      "Restaurant(<20)        No              816            1\n",
      "                       Yes             1970           1\n",
      "Name: count, dtype: int64\n"
     ]
    }
   ],
   "source": [
    "#Grouping records to compare acceptance rate for coupons\n",
    "barData = df.groupby(['coupon', 'couponAccepted'])['destination'].count().reset_index().sort_values('destination', ascending=False)\n",
    "print(barData.value_counts())"
   ]
  },
  {
   "cell_type": "code",
   "execution_count": 406,
   "metadata": {},
   "outputs": [
    {
     "data": {
      "image/png": "[encoded data removed]",
      "text/plain": [
       "<Figure size 640x480 with 1 Axes>"
      ]
     },
     "metadata": {},
     "output_type": "display_data"
    }
   ],
   "source": [
    "# Ploting a bar comparing if Accepted\n",
    "sns.barplot(\n",
    "    barData, \n",
    "    x= 'coupon', \n",
    "    y='destination',\n",
    "    hue='couponAccepted'  \n",
    ")\n",
    "plt.xticks(rotation = 30)\n",
    "plt.xlabel('Coupon Types')\n",
    "plt.ylabel('Count')\n",
    "plt.title('Coupon acceptance comparision by type')\n",
    "plt.legend(title='Coupon Accepted?')\n",
    "plt.savefig('images/5.png', bbox_inches = 'tight')"
   ]
  },
  {
   "cell_type": "markdown",
   "metadata": {},
   "source": [
    "**Answer:**\n",
    "\n",
    "Based on the \"Coupon Types\" graph above, there is a good acceptance for `cheap restaurants` coupons. The major of coupons delivered below this category are accepted (1970 coupons) in comparision with not accepted (816 coupons)"
   ]
  },
  {
   "cell_type": "markdown",
   "metadata": {},
   "source": [
    "6. Use a histogram to visualize the temperature column."
   ]
  },
  {
   "cell_type": "code",
   "execution_count": 407,
   "metadata": {
    "scrolled": true
   },
   "outputs": [
    {
     "name": "stdout",
     "output_type": "stream",
     "text": [
      "   temperature couponAccepted  destination\n",
      "5           80            Yes         3919\n",
      "4           80             No         2609\n",
      "3           55            Yes         2061\n",
      "2           55             No         1779\n",
      "1           30            Yes         1230\n",
      "0           30             No         1086\n"
     ]
    },
    {
     "data": {
      "image/png": "[encoded data removed]",
      "text/plain": [
       "<Figure size 640x480 with 1 Axes>"
      ]
     },
     "metadata": {},
     "output_type": "display_data"
    }
   ],
   "source": [
    "sns.histplot(\n",
    "    df, \n",
    "    x=\"temperature\",\n",
    "    hue=\"couponAccepted\",\n",
    "    multiple=\"dodge\",\n",
    "    bins=10\n",
    ")\n",
    "plt.title('Temperature Counts')\n",
    "plt.xlabel('Temperature (F)')\n",
    "plt.ylabel('Counts')\n",
    "plt.title('Coupon acceptance comparision by temperature')\n",
    "plt.savefig('images/6.png', bbox_inches = 'tight')\n",
    "\n",
    "print(df.groupby(['temperature', 'couponAccepted'])['destination'].count().reset_index().sort_values('destination', ascending=False))"
   ]
  },
  {
   "cell_type": "markdown",
   "metadata": {},
   "source": [
    "**Answer:**\n",
    "\n",
    "Evaluating the temperature and the acceptance of coupons, this is observed the major of coupons are accepted over ambient temperature of `80 degrees`"
   ]
  },
  {
   "cell_type": "markdown",
   "metadata": {},
   "source": [
    "**Investigating the Bar Coupons**\n",
    "\n",
    "Now, we will lead you through an exploration of just the bar related coupons.  \n",
    "\n",
    "1. Create a new `DataFrame` that contains just the bar coupons.\n"
   ]
  },
  {
   "cell_type": "code",
   "execution_count": 384,
   "metadata": {},
   "outputs": [
    {
     "data": {
      "text/html": [
       "<div>\n",
       "<style scoped>\n",
       "    .dataframe tbody tr th:only-of-type {\n",
       "        vertical-align: middle;\n",
       "    }\n",
       "\n",
       "    .dataframe tbody tr th {\n",
       "        vertical-align: top;\n",
       "    }\n",
       "\n",
       "    .dataframe thead th {\n",
       "        text-align: right;\n",
       "    }\n",
       "</style>\n",
       "<table border=\"1\" class=\"dataframe\">\n",
       "  <thead>\n",
       "    <tr style=\"text-align: right;\">\n",
       "      <th></th>\n",
       "      <th>destination</th>\n",
       "      <th>passenger</th>\n",
       "      <th>weather</th>\n",
       "      <th>temperature</th>\n",
       "      <th>time</th>\n",
       "      <th>coupon</th>\n",
       "      <th>expirationHours</th>\n",
       "      <th>gender</th>\n",
       "      <th>age</th>\n",
       "      <th>maritalStatus</th>\n",
       "      <th>...</th>\n",
       "      <th>carryAway</th>\n",
       "      <th>restaurantLessThan20</th>\n",
       "      <th>restaurant20To50</th>\n",
       "      <th>toCouponGEQ5min</th>\n",
       "      <th>toCouponGEQ15min</th>\n",
       "      <th>toCouponGEQ25min</th>\n",
       "      <th>directionSame</th>\n",
       "      <th>directionOpp</th>\n",
       "      <th>couponAccepted</th>\n",
       "      <th>lowerIncome</th>\n",
       "    </tr>\n",
       "  </thead>\n",
       "  <tbody>\n",
       "    <tr>\n",
       "      <th>9</th>\n",
       "      <td>No Urgent Place</td>\n",
       "      <td>Kids</td>\n",
       "      <td>Sunny</td>\n",
       "      <td>80</td>\n",
       "      <td>10AM</td>\n",
       "      <td>Bar</td>\n",
       "      <td>24</td>\n",
       "      <td>Female</td>\n",
       "      <td>21</td>\n",
       "      <td>Unmarried partner</td>\n",
       "      <td>...</td>\n",
       "      <td>NaN</td>\n",
       "      <td>4~8</td>\n",
       "      <td>1~3</td>\n",
       "      <td>1</td>\n",
       "      <td>1</td>\n",
       "      <td>0</td>\n",
       "      <td>0</td>\n",
       "      <td>1</td>\n",
       "      <td>No</td>\n",
       "      <td>37500</td>\n",
       "    </tr>\n",
       "    <tr>\n",
       "      <th>13</th>\n",
       "      <td>Home</td>\n",
       "      <td>Alone</td>\n",
       "      <td>Sunny</td>\n",
       "      <td>55</td>\n",
       "      <td>6PM</td>\n",
       "      <td>Bar</td>\n",
       "      <td>24</td>\n",
       "      <td>Female</td>\n",
       "      <td>21</td>\n",
       "      <td>Unmarried partner</td>\n",
       "      <td>...</td>\n",
       "      <td>NaN</td>\n",
       "      <td>4~8</td>\n",
       "      <td>1~3</td>\n",
       "      <td>1</td>\n",
       "      <td>0</td>\n",
       "      <td>0</td>\n",
       "      <td>1</td>\n",
       "      <td>0</td>\n",
       "      <td>Yes</td>\n",
       "      <td>37500</td>\n",
       "    </tr>\n",
       "    <tr>\n",
       "      <th>17</th>\n",
       "      <td>Work</td>\n",
       "      <td>Alone</td>\n",
       "      <td>Sunny</td>\n",
       "      <td>55</td>\n",
       "      <td>7AM</td>\n",
       "      <td>Bar</td>\n",
       "      <td>24</td>\n",
       "      <td>Female</td>\n",
       "      <td>21</td>\n",
       "      <td>Unmarried partner</td>\n",
       "      <td>...</td>\n",
       "      <td>NaN</td>\n",
       "      <td>4~8</td>\n",
       "      <td>1~3</td>\n",
       "      <td>1</td>\n",
       "      <td>1</td>\n",
       "      <td>1</td>\n",
       "      <td>0</td>\n",
       "      <td>1</td>\n",
       "      <td>No</td>\n",
       "      <td>37500</td>\n",
       "    </tr>\n",
       "    <tr>\n",
       "      <th>24</th>\n",
       "      <td>No Urgent Place</td>\n",
       "      <td>Friends</td>\n",
       "      <td>Sunny</td>\n",
       "      <td>80</td>\n",
       "      <td>10AM</td>\n",
       "      <td>Bar</td>\n",
       "      <td>24</td>\n",
       "      <td>Male</td>\n",
       "      <td>21</td>\n",
       "      <td>Single</td>\n",
       "      <td>...</td>\n",
       "      <td>4~8</td>\n",
       "      <td>4~8</td>\n",
       "      <td>less1</td>\n",
       "      <td>1</td>\n",
       "      <td>0</td>\n",
       "      <td>0</td>\n",
       "      <td>0</td>\n",
       "      <td>1</td>\n",
       "      <td>Yes</td>\n",
       "      <td>62500</td>\n",
       "    </tr>\n",
       "    <tr>\n",
       "      <th>35</th>\n",
       "      <td>Home</td>\n",
       "      <td>Alone</td>\n",
       "      <td>Sunny</td>\n",
       "      <td>55</td>\n",
       "      <td>6PM</td>\n",
       "      <td>Bar</td>\n",
       "      <td>24</td>\n",
       "      <td>Male</td>\n",
       "      <td>21</td>\n",
       "      <td>Single</td>\n",
       "      <td>...</td>\n",
       "      <td>4~8</td>\n",
       "      <td>4~8</td>\n",
       "      <td>less1</td>\n",
       "      <td>1</td>\n",
       "      <td>0</td>\n",
       "      <td>0</td>\n",
       "      <td>1</td>\n",
       "      <td>0</td>\n",
       "      <td>Yes</td>\n",
       "      <td>62500</td>\n",
       "    </tr>\n",
       "    <tr>\n",
       "      <th>...</th>\n",
       "      <td>...</td>\n",
       "      <td>...</td>\n",
       "      <td>...</td>\n",
       "      <td>...</td>\n",
       "      <td>...</td>\n",
       "      <td>...</td>\n",
       "      <td>...</td>\n",
       "      <td>...</td>\n",
       "      <td>...</td>\n",
       "      <td>...</td>\n",
       "      <td>...</td>\n",
       "      <td>...</td>\n",
       "      <td>...</td>\n",
       "      <td>...</td>\n",
       "      <td>...</td>\n",
       "      <td>...</td>\n",
       "      <td>...</td>\n",
       "      <td>...</td>\n",
       "      <td>...</td>\n",
       "      <td>...</td>\n",
       "      <td>...</td>\n",
       "    </tr>\n",
       "    <tr>\n",
       "      <th>12663</th>\n",
       "      <td>No Urgent Place</td>\n",
       "      <td>Friends</td>\n",
       "      <td>Sunny</td>\n",
       "      <td>80</td>\n",
       "      <td>10PM</td>\n",
       "      <td>Bar</td>\n",
       "      <td>24</td>\n",
       "      <td>Male</td>\n",
       "      <td>26</td>\n",
       "      <td>Single</td>\n",
       "      <td>...</td>\n",
       "      <td>1~3</td>\n",
       "      <td>4~8</td>\n",
       "      <td>1~3</td>\n",
       "      <td>1</td>\n",
       "      <td>1</td>\n",
       "      <td>0</td>\n",
       "      <td>0</td>\n",
       "      <td>1</td>\n",
       "      <td>No</td>\n",
       "      <td>75000</td>\n",
       "    </tr>\n",
       "    <tr>\n",
       "      <th>12664</th>\n",
       "      <td>No Urgent Place</td>\n",
       "      <td>Friends</td>\n",
       "      <td>Sunny</td>\n",
       "      <td>55</td>\n",
       "      <td>10PM</td>\n",
       "      <td>Bar</td>\n",
       "      <td>2</td>\n",
       "      <td>Male</td>\n",
       "      <td>26</td>\n",
       "      <td>Single</td>\n",
       "      <td>...</td>\n",
       "      <td>1~3</td>\n",
       "      <td>4~8</td>\n",
       "      <td>1~3</td>\n",
       "      <td>1</td>\n",
       "      <td>1</td>\n",
       "      <td>0</td>\n",
       "      <td>0</td>\n",
       "      <td>1</td>\n",
       "      <td>No</td>\n",
       "      <td>75000</td>\n",
       "    </tr>\n",
       "    <tr>\n",
       "      <th>12667</th>\n",
       "      <td>No Urgent Place</td>\n",
       "      <td>Alone</td>\n",
       "      <td>Rainy</td>\n",
       "      <td>55</td>\n",
       "      <td>10AM</td>\n",
       "      <td>Bar</td>\n",
       "      <td>24</td>\n",
       "      <td>Male</td>\n",
       "      <td>26</td>\n",
       "      <td>Single</td>\n",
       "      <td>...</td>\n",
       "      <td>1~3</td>\n",
       "      <td>4~8</td>\n",
       "      <td>1~3</td>\n",
       "      <td>1</td>\n",
       "      <td>1</td>\n",
       "      <td>0</td>\n",
       "      <td>0</td>\n",
       "      <td>1</td>\n",
       "      <td>No</td>\n",
       "      <td>75000</td>\n",
       "    </tr>\n",
       "    <tr>\n",
       "      <th>12670</th>\n",
       "      <td>No Urgent Place</td>\n",
       "      <td>Partner</td>\n",
       "      <td>Rainy</td>\n",
       "      <td>55</td>\n",
       "      <td>6PM</td>\n",
       "      <td>Bar</td>\n",
       "      <td>2</td>\n",
       "      <td>Male</td>\n",
       "      <td>26</td>\n",
       "      <td>Single</td>\n",
       "      <td>...</td>\n",
       "      <td>1~3</td>\n",
       "      <td>4~8</td>\n",
       "      <td>1~3</td>\n",
       "      <td>1</td>\n",
       "      <td>1</td>\n",
       "      <td>0</td>\n",
       "      <td>0</td>\n",
       "      <td>1</td>\n",
       "      <td>No</td>\n",
       "      <td>75000</td>\n",
       "    </tr>\n",
       "    <tr>\n",
       "      <th>12682</th>\n",
       "      <td>Work</td>\n",
       "      <td>Alone</td>\n",
       "      <td>Snowy</td>\n",
       "      <td>30</td>\n",
       "      <td>7AM</td>\n",
       "      <td>Bar</td>\n",
       "      <td>24</td>\n",
       "      <td>Male</td>\n",
       "      <td>26</td>\n",
       "      <td>Single</td>\n",
       "      <td>...</td>\n",
       "      <td>1~3</td>\n",
       "      <td>4~8</td>\n",
       "      <td>1~3</td>\n",
       "      <td>1</td>\n",
       "      <td>1</td>\n",
       "      <td>1</td>\n",
       "      <td>0</td>\n",
       "      <td>1</td>\n",
       "      <td>No</td>\n",
       "      <td>75000</td>\n",
       "    </tr>\n",
       "  </tbody>\n",
       "</table>\n",
       "<p>2017 rows × 26 columns</p>\n",
       "</div>"
      ],
      "text/plain": [
       "           destination passenger weather  temperature  time coupon  \\\n",
       "9      No Urgent Place      Kids   Sunny           80  10AM    Bar   \n",
       "13                Home     Alone   Sunny           55   6PM    Bar   \n",
       "17                Work     Alone   Sunny           55   7AM    Bar   \n",
       "24     No Urgent Place   Friends   Sunny           80  10AM    Bar   \n",
       "35                Home     Alone   Sunny           55   6PM    Bar   \n",
       "...                ...       ...     ...          ...   ...    ...   \n",
       "12663  No Urgent Place   Friends   Sunny           80  10PM    Bar   \n",
       "12664  No Urgent Place   Friends   Sunny           55  10PM    Bar   \n",
       "12667  No Urgent Place     Alone   Rainy           55  10AM    Bar   \n",
       "12670  No Urgent Place   Partner   Rainy           55   6PM    Bar   \n",
       "12682             Work     Alone   Snowy           30   7AM    Bar   \n",
       "\n",
       "       expirationHours  gender  age      maritalStatus  ...  carryAway  \\\n",
       "9                   24  Female   21  Unmarried partner  ...        NaN   \n",
       "13                  24  Female   21  Unmarried partner  ...        NaN   \n",
       "17                  24  Female   21  Unmarried partner  ...        NaN   \n",
       "24                  24    Male   21             Single  ...        4~8   \n",
       "35                  24    Male   21             Single  ...        4~8   \n",
       "...                ...     ...  ...                ...  ...        ...   \n",
       "12663               24    Male   26             Single  ...        1~3   \n",
       "12664                2    Male   26             Single  ...        1~3   \n",
       "12667               24    Male   26             Single  ...        1~3   \n",
       "12670                2    Male   26             Single  ...        1~3   \n",
       "12682               24    Male   26             Single  ...        1~3   \n",
       "\n",
       "      restaurantLessThan20 restaurant20To50 toCouponGEQ5min toCouponGEQ15min  \\\n",
       "9                      4~8              1~3               1                1   \n",
       "13                     4~8              1~3               1                0   \n",
       "17                     4~8              1~3               1                1   \n",
       "24                     4~8            less1               1                0   \n",
       "35                     4~8            less1               1                0   \n",
       "...                    ...              ...             ...              ...   \n",
       "12663                  4~8              1~3               1                1   \n",
       "12664                  4~8              1~3               1                1   \n",
       "12667                  4~8              1~3               1                1   \n",
       "12670                  4~8              1~3               1                1   \n",
       "12682                  4~8              1~3               1                1   \n",
       "\n",
       "      toCouponGEQ25min directionSame directionOpp couponAccepted  lowerIncome  \n",
       "9                    0             0            1             No        37500  \n",
       "13                   0             1            0            Yes        37500  \n",
       "17                   1             0            1             No        37500  \n",
       "24                   0             0            1            Yes        62500  \n",
       "35                   0             1            0            Yes        62500  \n",
       "...                ...           ...          ...            ...          ...  \n",
       "12663                0             0            1             No        75000  \n",
       "12664                0             0            1             No        75000  \n",
       "12667                0             0            1             No        75000  \n",
       "12670                0             0            1             No        75000  \n",
       "12682                1             0            1             No        75000  \n",
       "\n",
       "[2017 rows x 26 columns]"
      ]
     },
     "execution_count": 384,
     "metadata": {},
     "output_type": "execute_result"
    }
   ],
   "source": [
    "dfBar = df.query('coupon == \"Bar\"')\n",
    "dfBar"
   ]
  },
  {
   "cell_type": "markdown",
   "metadata": {},
   "source": [
    "2. What proportion of bar coupons were accepted?\n"
   ]
  },
  {
   "cell_type": "code",
   "execution_count": 385,
   "metadata": {},
   "outputs": [
    {
     "data": {
      "text/plain": [
       "41.00148735746158"
      ]
     },
     "execution_count": 385,
     "metadata": {},
     "output_type": "execute_result"
    }
   ],
   "source": [
    "proportionBarCoupons = dfBar.query('couponAccepted == \"Yes\"').shape[0] / dfBar.shape[0] * 100\n",
    "proportionBarCoupons"
   ]
  },
  {
   "cell_type": "markdown",
   "metadata": {},
   "source": [
    "**Answer:**\n",
    "\n",
    "The proportion of *bar* coupons accepted is:  41.00 %"
   ]
  },
  {
   "cell_type": "markdown",
   "metadata": {},
   "source": [
    "3. Compare the acceptance rate between those who went to a bar 3 or fewer times a month to those who went more."
   ]
  },
  {
   "cell_type": "code",
   "execution_count": 387,
   "metadata": {},
   "outputs": [
    {
     "name": "stdout",
     "output_type": "stream",
     "text": [
      "58.79093198992443\n",
      "62.24561403508771\n"
     ]
    }
   ],
   "source": [
    "less = ['less1', '1~3'] # Went to a bar ( >= 1),  3 or fewer (less1, 1~3)\n",
    "more = ['4~8', 'gt8']\n",
    "# dfBar.query('bar in @less').shape[0] / dfBar.query('bar in @more').shape[0]\n",
    "\n",
    "dfBar3Less = df.query('bar in @less')\n",
    "dfBar3More = df.query('bar in @more')                        \n",
    "\n",
    "acceptanceRateLess = dfBar3Less.query('couponAccepted == \"Yes\"').shape[0] / dfBar3Less.shape[0] * 100\n",
    "acceptanceRateMore = dfBar3More.query('couponAccepted == \"Yes\"').shape[0] / dfBar3More.shape[0] * 100\n",
    "\n",
    "print(acceptanceRateLess)\n",
    "print(acceptanceRateMore)"
   ]
  },
  {
   "cell_type": "markdown",
   "metadata": {},
   "source": [
    "**Answer:**\n",
    "\n",
    "The acceptance rate for bar coupons is better when the driver has visited a bar more than 3 times having a `62.25%` of acceptance rate vs `58.79%`\n",
    "\n",
    "- Accepted bar coupons, visits >= 1 <= 3: `58.79`\n",
    "- Accepted bar coupons, visits       > 3: `62.25`"
   ]
  },
  {
   "cell_type": "markdown",
   "metadata": {},
   "source": [
    "4. Compare the acceptance rate between drivers who go to a bar more than once a month and are over the age of 25 to the all others.  Is there a difference?\n"
   ]
  },
  {
   "cell_type": "code",
   "execution_count": 388,
   "metadata": {},
   "outputs": [
    {
     "name": "stdout",
     "output_type": "stream",
     "text": [
      "Drivers older than 25 going to a bar more than 1:  2878\n",
      "Other drivers:  9806\n",
      "61.74426685198055\n",
      "55.40485417091576\n"
     ]
    }
   ],
   "source": [
    "exclude = ['never', 'less1']\n",
    "drivers1 = df.query('not bar in @exclude and age > 25')\n",
    "print('Drivers older than 25 going to a bar more than 1: ', drivers1.shape[0])\n",
    "\n",
    "acceptanceRate1 = drivers1.query('couponAccepted == \"Yes\"').shape[0] / drivers1.shape[0] * 100\n",
    "acceptanceRate1\n",
    "\n",
    "otherDrivers = df.query('not (not bar in @exclude and age > 25)')\n",
    "print('Other drivers: ', otherDrivers.shape[0])\n",
    "acceptanceOthers = otherDrivers.query('couponAccepted == \"Yes\"').shape[0] / otherDrivers.shape[0] * 100\n",
    "\n",
    "print(acceptanceRate1)\n",
    "print(acceptanceOthers)\n"
   ]
  },
  {
   "cell_type": "markdown",
   "metadata": {},
   "source": [
    "**Answer:**\n",
    "\n",
    "There is more acceptance over drivers visiting more than 1 time a bar and older than 25 year old (`61.74%`) vs other drivers (`55.40%`)"
   ]
  },
  {
   "cell_type": "markdown",
   "metadata": {},
   "source": [
    "5. Use the same process to compare the acceptance rate between drivers who go to bars more than once a month and had passengers that were not a kid and had occupations other than farming, fishing, or forestry. \n"
   ]
  },
  {
   "cell_type": "code",
   "execution_count": 389,
   "metadata": {},
   "outputs": [
    {
     "name": "stdout",
     "output_type": "stream",
     "text": [
      "passenger\n",
      "Alone      7305\n",
      "Friends    3298\n",
      "Partner    1075\n",
      "Kids       1006\n",
      "Name: count, dtype: int64\n",
      "occupation\n",
      "Unemployed                                   1870\n",
      "Student                                      1584\n",
      "Computer & Mathematical                      1408\n",
      "Sales & Related                              1093\n",
      "Education&Training&Library                    943\n",
      "Management                                    838\n",
      "Office & Administrative Support               639\n",
      "Arts Design Entertainment Sports & Media      629\n",
      "Business & Financial                          544\n",
      "Retired                                       495\n",
      "Food Preparation & Serving Related            298\n",
      "Healthcare Practitioners & Technical          244\n",
      "Healthcare Support                            242\n",
      "Community & Social Services                   241\n",
      "Legal                                         219\n",
      "Transportation & Material Moving              218\n",
      "Architecture & Engineering                    175\n",
      "Personal Care & Service                       175\n",
      "Protective Service                            175\n",
      "Life Physical Social Science                  170\n",
      "Construction & Extraction                     154\n",
      "Installation Maintenance & Repair             133\n",
      "Production Occupations                        110\n",
      "Building & Grounds Cleaning & Maintenance      44\n",
      "Farming Fishing & Forestry                     43\n",
      "Name: count, dtype: int64\n"
     ]
    }
   ],
   "source": [
    "# Evaluating possible values for the columns required\n",
    "print(df['passenger'].value_counts())\n",
    "print(df['occupation'].value_counts())"
   ]
  },
  {
   "cell_type": "code",
   "execution_count": 390,
   "metadata": {},
   "outputs": [
    {
     "name": "stdout",
     "output_type": "stream",
     "text": [
      "62.310606060606055\n",
      "54.59501557632399\n"
     ]
    }
   ],
   "source": [
    "barVisitsToInclude = ['1~3', '4~8', 'gt8'] # go to bars more than once a month \n",
    "excludeOccupations = ['Farming Fishing & Forestry'] #occupations other than farming, fishing, or forestry\n",
    "drivers = df.query('bar in @barVisitsToInclude and passenger != \"Kids\" and not occupation in @excludeOccupations')\n",
    "otherDrivers = df.query('not (bar in @barVisitsToInclude and passenger != \"Kids\" and not occupation in @excludeOccupations)')\n",
    "\n",
    "acceptanceDrivers = drivers.query('couponAccepted == \"Yes\"').shape[0] / drivers.shape[0] * 100\n",
    "print(acceptanceDrivers)\n",
    "\n",
    "acceptanceOthers = otherDrivers.query('couponAccepted == \"Yes\"').shape[0] / otherDrivers.shape[0] * 100\n",
    "print(acceptanceOthers)"
   ]
  },
  {
   "cell_type": "markdown",
   "metadata": {},
   "source": [
    "**Answer:**\n",
    "\n",
    "The acceptance rate for drivers who go to bars more than once a month and had passengers that were not a kid and had occupations other than farming is `62.31%` being better than other drivers with an acceptance of `54.59%`"
   ]
  },
  {
   "cell_type": "markdown",
   "metadata": {},
   "source": [
    "6. Compare the acceptance rates between those drivers who:\n",
    "\n",
    "- go to bars more than once a month, had passengers that were not a kid, and were not widowed *OR*\n",
    "- go to bars more than once a month and are under the age of 30 *OR*\n",
    "- go to cheap restaurants more than 4 times a month and income is less than 50K. \n",
    "\n"
   ]
  },
  {
   "cell_type": "code",
   "execution_count": 408,
   "metadata": {},
   "outputs": [
    {
     "data": {
      "image/png": "[encoded data removed]",
      "text/plain": [
       "<Figure size 640x480 with 1 Axes>"
      ]
     },
     "metadata": {},
     "output_type": "display_data"
    }
   ],
   "source": [
    "barVisitsToInclude = ['1~3', '4~8', 'gt8'] #go to bars more than once a month\n",
    "restaurantsToInclude = ['4~8', 'gt8'] #go to cheap restaurants more than 4 times\n",
    "\n",
    "#had passengers that were not a kid, and were not widowed \n",
    "drivers1 = df.query('bar in @barVisitsToInclude and passenger != \"Kids\" and maritalStatus != \"Widowed\"')\n",
    "\n",
    "#go to bars more than once a month and are under the age of 30 \n",
    "drivers2 = df.query('bar in @barVisitsToInclude and age < 30')\n",
    "\n",
    "#go to cheap restaurants more than 4 times a month and income is less than 50K\n",
    "drivers3 = df.query('restaurantLessThan20 in @restaurantsToInclude and lowerIncome < 50000')\n",
    "\n",
    "#This is created a new DataFrame including as categories (column label) the acceptances for each group of drivers\n",
    "newDf = pd.DataFrame([{\n",
    "        \"category\": 'A', \n",
    "        \"acceptance\": drivers1.query('couponAccepted == \"Yes\"').shape[0] / drivers1.shape[0] * 100\n",
    "    }, \n",
    "    {\n",
    "        \"category\": 'B', \n",
    "        \"acceptance\": drivers2.query('couponAccepted == \"Yes\"').shape[0] / drivers2.shape[0] * 100\n",
    "    },\n",
    "    {\n",
    "        \"category\": 'C', \n",
    "        \"acceptance\": drivers3.query('couponAccepted == \"Yes\"').shape[0] / drivers3.shape[0] * 100\n",
    "    }\n",
    "])\n",
    "\n",
    "#This is used a barplot to generate a visualization for the acceptance over each category\n",
    "sns.barplot(\n",
    "    newDf, \n",
    "    x= 'category', \n",
    "    y='acceptance' \n",
    ")\n",
    "plt.title('Acceptance rates by category')\n",
    "plt.xlabel('Categories')\n",
    "plt.ylabel('Acceptance Rate (%)')\n",
    "plt.savefig('images/bar_6.png', bbox_inches = 'tight')"
   ]
  },
  {
   "cell_type": "markdown",
   "metadata": {},
   "source": [
    "**Answer:**\n",
    "\n",
    "The acceptance rate between the different categories is very similar. It is around `60%` of coupons acceptance rate for each one"
   ]
  },
  {
   "cell_type": "markdown",
   "metadata": {},
   "source": [
    "7.  Based on these observations, what do you hypothesize about drivers who accepted the bar coupons?"
   ]
  },
  {
   "cell_type": "markdown",
   "metadata": {},
   "source": [
    "**Answer:**\n",
    "\n",
    "Based on the observations summarized below, I can observe the driver coupons acceptances is slightly increased while the driver have visited a bar more frequently (>= 4~8 times per month) with an acceptance rate of `62.24%`. Comparing the above with different filtering criteria, by evaluating passenger kids and age it doesn't improve the acceptance rates. \n",
    "\n",
    "Observations: \n",
    "- Proportion of bar coupons accepted:  41.00148735746158 \n",
    "- Accepted bar coupons, visits >= 1 <= 3: 58.79093198992443\n",
    "- Accepted bar coupons, visits       > 3: 62.24561403508771   (4~8', 'gt8)\n",
    "- Acceptance rate for drivers older than 25 with more than 1 visit:  61.74 vs 55.40 others\n",
    "- Acceptance drivers visiting >= 1 a bar with age < 30: ~60"
   ]
  },
  {
   "cell_type": "markdown",
   "metadata": {},
   "source": [
    "### Independent Investigation\n",
    "\n",
    "Using the bar coupon example as motivation, you are to explore one of the other coupon groups and try to determine the characteristics of passengers who accept the coupons.  "
   ]
  },
  {
   "cell_type": "code",
   "execution_count": 391,
   "metadata": {},
   "outputs": [
    {
     "data": {
      "text/html": [
       "<div>\n",
       "<style scoped>\n",
       "    .dataframe tbody tr th:only-of-type {\n",
       "        vertical-align: middle;\n",
       "    }\n",
       "\n",
       "    .dataframe tbody tr th {\n",
       "        vertical-align: top;\n",
       "    }\n",
       "\n",
       "    .dataframe thead th {\n",
       "        text-align: right;\n",
       "    }\n",
       "</style>\n",
       "<table border=\"1\" class=\"dataframe\">\n",
       "  <thead>\n",
       "    <tr style=\"text-align: right;\">\n",
       "      <th></th>\n",
       "      <th>destination</th>\n",
       "      <th>passenger</th>\n",
       "      <th>weather</th>\n",
       "      <th>temperature</th>\n",
       "      <th>time</th>\n",
       "      <th>coupon</th>\n",
       "      <th>expirationHours</th>\n",
       "      <th>gender</th>\n",
       "      <th>age</th>\n",
       "      <th>maritalStatus</th>\n",
       "      <th>...</th>\n",
       "      <th>carryAway</th>\n",
       "      <th>restaurantLessThan20</th>\n",
       "      <th>restaurant20To50</th>\n",
       "      <th>toCouponGEQ5min</th>\n",
       "      <th>toCouponGEQ15min</th>\n",
       "      <th>toCouponGEQ25min</th>\n",
       "      <th>directionSame</th>\n",
       "      <th>directionOpp</th>\n",
       "      <th>couponAccepted</th>\n",
       "      <th>lowerIncome</th>\n",
       "    </tr>\n",
       "  </thead>\n",
       "  <tbody>\n",
       "    <tr>\n",
       "      <th>0</th>\n",
       "      <td>No Urgent Place</td>\n",
       "      <td>Alone</td>\n",
       "      <td>Sunny</td>\n",
       "      <td>55</td>\n",
       "      <td>2PM</td>\n",
       "      <td>Restaurant(&lt;20)</td>\n",
       "      <td>24</td>\n",
       "      <td>Female</td>\n",
       "      <td>21</td>\n",
       "      <td>Unmarried partner</td>\n",
       "      <td>...</td>\n",
       "      <td>NaN</td>\n",
       "      <td>4~8</td>\n",
       "      <td>1~3</td>\n",
       "      <td>1</td>\n",
       "      <td>0</td>\n",
       "      <td>0</td>\n",
       "      <td>0</td>\n",
       "      <td>1</td>\n",
       "      <td>Yes</td>\n",
       "      <td>37500</td>\n",
       "    </tr>\n",
       "    <tr>\n",
       "      <th>1</th>\n",
       "      <td>No Urgent Place</td>\n",
       "      <td>Friends</td>\n",
       "      <td>Sunny</td>\n",
       "      <td>80</td>\n",
       "      <td>10AM</td>\n",
       "      <td>Coffee House</td>\n",
       "      <td>2</td>\n",
       "      <td>Female</td>\n",
       "      <td>21</td>\n",
       "      <td>Unmarried partner</td>\n",
       "      <td>...</td>\n",
       "      <td>NaN</td>\n",
       "      <td>4~8</td>\n",
       "      <td>1~3</td>\n",
       "      <td>1</td>\n",
       "      <td>0</td>\n",
       "      <td>0</td>\n",
       "      <td>0</td>\n",
       "      <td>1</td>\n",
       "      <td>No</td>\n",
       "      <td>37500</td>\n",
       "    </tr>\n",
       "    <tr>\n",
       "      <th>2</th>\n",
       "      <td>No Urgent Place</td>\n",
       "      <td>Friends</td>\n",
       "      <td>Sunny</td>\n",
       "      <td>80</td>\n",
       "      <td>10AM</td>\n",
       "      <td>Carry out &amp; Take away</td>\n",
       "      <td>2</td>\n",
       "      <td>Female</td>\n",
       "      <td>21</td>\n",
       "      <td>Unmarried partner</td>\n",
       "      <td>...</td>\n",
       "      <td>NaN</td>\n",
       "      <td>4~8</td>\n",
       "      <td>1~3</td>\n",
       "      <td>1</td>\n",
       "      <td>1</td>\n",
       "      <td>0</td>\n",
       "      <td>0</td>\n",
       "      <td>1</td>\n",
       "      <td>Yes</td>\n",
       "      <td>37500</td>\n",
       "    </tr>\n",
       "    <tr>\n",
       "      <th>3</th>\n",
       "      <td>No Urgent Place</td>\n",
       "      <td>Friends</td>\n",
       "      <td>Sunny</td>\n",
       "      <td>80</td>\n",
       "      <td>2PM</td>\n",
       "      <td>Coffee House</td>\n",
       "      <td>2</td>\n",
       "      <td>Female</td>\n",
       "      <td>21</td>\n",
       "      <td>Unmarried partner</td>\n",
       "      <td>...</td>\n",
       "      <td>NaN</td>\n",
       "      <td>4~8</td>\n",
       "      <td>1~3</td>\n",
       "      <td>1</td>\n",
       "      <td>1</td>\n",
       "      <td>0</td>\n",
       "      <td>0</td>\n",
       "      <td>1</td>\n",
       "      <td>No</td>\n",
       "      <td>37500</td>\n",
       "    </tr>\n",
       "    <tr>\n",
       "      <th>4</th>\n",
       "      <td>No Urgent Place</td>\n",
       "      <td>Friends</td>\n",
       "      <td>Sunny</td>\n",
       "      <td>80</td>\n",
       "      <td>2PM</td>\n",
       "      <td>Coffee House</td>\n",
       "      <td>24</td>\n",
       "      <td>Female</td>\n",
       "      <td>21</td>\n",
       "      <td>Unmarried partner</td>\n",
       "      <td>...</td>\n",
       "      <td>NaN</td>\n",
       "      <td>4~8</td>\n",
       "      <td>1~3</td>\n",
       "      <td>1</td>\n",
       "      <td>1</td>\n",
       "      <td>0</td>\n",
       "      <td>0</td>\n",
       "      <td>1</td>\n",
       "      <td>No</td>\n",
       "      <td>37500</td>\n",
       "    </tr>\n",
       "  </tbody>\n",
       "</table>\n",
       "<p>5 rows × 26 columns</p>\n",
       "</div>"
      ],
      "text/plain": [
       "       destination passenger weather  temperature  time  \\\n",
       "0  No Urgent Place     Alone   Sunny           55   2PM   \n",
       "1  No Urgent Place   Friends   Sunny           80  10AM   \n",
       "2  No Urgent Place   Friends   Sunny           80  10AM   \n",
       "3  No Urgent Place   Friends   Sunny           80   2PM   \n",
       "4  No Urgent Place   Friends   Sunny           80   2PM   \n",
       "\n",
       "                  coupon  expirationHours  gender  age      maritalStatus  \\\n",
       "0        Restaurant(<20)               24  Female   21  Unmarried partner   \n",
       "1           Coffee House                2  Female   21  Unmarried partner   \n",
       "2  Carry out & Take away                2  Female   21  Unmarried partner   \n",
       "3           Coffee House                2  Female   21  Unmarried partner   \n",
       "4           Coffee House               24  Female   21  Unmarried partner   \n",
       "\n",
       "   ...  carryAway restaurantLessThan20 restaurant20To50 toCouponGEQ5min  \\\n",
       "0  ...        NaN                  4~8              1~3               1   \n",
       "1  ...        NaN                  4~8              1~3               1   \n",
       "2  ...        NaN                  4~8              1~3               1   \n",
       "3  ...        NaN                  4~8              1~3               1   \n",
       "4  ...        NaN                  4~8              1~3               1   \n",
       "\n",
       "  toCouponGEQ15min toCouponGEQ25min directionSame directionOpp couponAccepted  \\\n",
       "0                0                0             0            1            Yes   \n",
       "1                0                0             0            1             No   \n",
       "2                1                0             0            1            Yes   \n",
       "3                1                0             0            1             No   \n",
       "4                1                0             0            1             No   \n",
       "\n",
       "   lowerIncome  \n",
       "0        37500  \n",
       "1        37500  \n",
       "2        37500  \n",
       "3        37500  \n",
       "4        37500  \n",
       "\n",
       "[5 rows x 26 columns]"
      ]
     },
     "execution_count": 391,
     "metadata": {},
     "output_type": "execute_result"
    }
   ],
   "source": [
    "df.head()"
   ]
  },
  {
   "cell_type": "markdown",
   "metadata": {},
   "source": [
    "7.1 What proportion of coupons were accepted based on hour of day (time)?"
   ]
  },
  {
   "cell_type": "code",
   "execution_count": 392,
   "metadata": {},
   "outputs": [],
   "source": [
    "# Adding a columns called \"accepted\" with number 1 or 0 indicating acceptance. This will be used for sums later\n",
    "df['accepted'] = df['couponAccepted'].str.replace('Yes', '1').str.replace('No', '0')\n",
    "df['accepted'] = pd.to_numeric(df['accepted'])"
   ]
  },
  {
   "cell_type": "code",
   "execution_count": 296,
   "metadata": {},
   "outputs": [
    {
     "data": {
      "image/png": "[encoded data removed]",
      "text/plain": [
       "<Figure size 640x480 with 1 Axes>"
      ]
     },
     "metadata": {},
     "output_type": "display_data"
    }
   ],
   "source": [
    "# Plotting bar displaying the percentage of acceptance for coupons based on time of hour\n",
    "sns.barplot(\n",
    "    df[['time', 'coupon', 'accepted']], \n",
    "    x='time',\n",
    "    y= 'accepted', \n",
    "    hue='coupon'\n",
    ")\n",
    "plt.xlabel('Hour of day')\n",
    "plt.ylabel('Accepted Coupons (%)')\n",
    "plt.title('Accepted coupons by hour of day')\n",
    "plt.legend(title='Coupon Type', bbox_to_anchor=(1.05, 1), borderaxespad=0)\n",
    "plt.savefig('images/7_1.png', bbox_inches = 'tight')\n"
   ]
  },
  {
   "cell_type": "markdown",
   "metadata": {},
   "source": [
    "**Answer:**\n",
    "\n",
    "Based on the observation of above graph, the major acceptance rate happens at `2PM` being `Carry our & Take away` the coupon type with best acceptance rate."
   ]
  },
  {
   "cell_type": "markdown",
   "metadata": {},
   "source": [
    "7.2 What is the acceptance rate for coupons type \"Carry out & Take away\"?"
   ]
  },
  {
   "cell_type": "code",
   "execution_count": 393,
   "metadata": {},
   "outputs": [
    {
     "data": {
      "text/plain": [
       "73.54784788967822"
      ]
     },
     "execution_count": 393,
     "metadata": {},
     "output_type": "execute_result"
    }
   ],
   "source": [
    "dfCarryOut = df.query('coupon == \"Carry out & Take away\"')\n",
    "proportion_acceptance_carryout = dfCarryOut.query('accepted == 1').shape[0] / dfCarryOut.shape[0] * 100\n",
    "proportion_acceptance_carryout\n"
   ]
  },
  {
   "cell_type": "markdown",
   "metadata": {},
   "source": [
    "**Answer:**\n",
    "\n",
    "The acceptance rate for `Carry Out & Take away` coupons is:  `73.55%`"
   ]
  },
  {
   "cell_type": "markdown",
   "metadata": {},
   "source": [
    "7.3 What is the acceptance rate for coupons delivered at 2PM ?"
   ]
  },
  {
   "cell_type": "code",
   "execution_count": 394,
   "metadata": {},
   "outputs": [
    {
     "data": {
      "text/plain": [
       "66.15231458437033"
      ]
     },
     "execution_count": 394,
     "metadata": {},
     "output_type": "execute_result"
    }
   ],
   "source": [
    "df2PM = df.query('time == \"2PM\"')\n",
    "proportion_acceptance_2pm = df2PM.query('accepted == 1').shape[0] / df2PM.shape[0] * 100\n",
    "proportion_acceptance_2pm"
   ]
  },
  {
   "cell_type": "markdown",
   "metadata": {},
   "source": [
    "**Answer:**\n",
    "\n",
    "The acceptance rate for coupons delivered at `2PM` is:  `66.15%`"
   ]
  },
  {
   "cell_type": "markdown",
   "metadata": {},
   "source": [
    "7.4 What is the acceptance rate for coupons of \"Carry out & Take away\" were delivered at 2PM based on Marital Status?"
   ]
  },
  {
   "cell_type": "code",
   "execution_count": 396,
   "metadata": {
    "scrolled": true
   },
   "outputs": [
    {
     "name": "stdout",
     "output_type": "stream",
     "text": [
      "       maritalStatus  gender  accepted  count      rate\n",
      "0           Divorced  Female         5      7  0.714286\n",
      "1           Divorced    Male         3      3  1.000000\n",
      "2    Married partner  Female        40     43  0.930233\n",
      "3    Married partner    Male        25     34  0.735294\n",
      "4             Single  Female        41     45  0.911111\n",
      "5             Single    Male        49     55  0.890909\n",
      "6  Unmarried partner  Female        13     15  0.866667\n",
      "7  Unmarried partner    Male        10     13  0.769231\n",
      "8            Widowed  Female         2      2  1.000000\n",
      "9            Widowed    Male         1      1  1.000000\n"
     ]
    },
    {
     "data": {
      "image/png": "[encoded data removed]",
      "text/plain": [
       "<Figure size 640x480 with 1 Axes>"
      ]
     },
     "metadata": {},
     "output_type": "display_data"
    }
   ],
   "source": [
    "# Filtering the data an getting the accepted coupons added (sum)\n",
    "df2PMCarryOutAccepted = df.query('coupon == \"Carry out & Take away\" and time == \"2PM\"').groupby(\n",
    "    ['maritalStatus', 'gender'])['accepted'].sum('accepted').reset_index()\n",
    "\n",
    "# Filtering the data and getting a count for the records on each group\n",
    "df2PMCarryOutTotal = df.query('coupon == \"Carry out & Take away\" and time == \"2PM\"').groupby(\n",
    "    ['maritalStatus', 'gender'])['accepted'].count().reset_index()\n",
    "df2PMCarryOutTotal = df2PMCarryOutTotal.rename(columns={ 'accepted': 'count' })\n",
    "\n",
    "# Joining both tables to calculate the rate (accepted coupons / total coupon for this grouping)\n",
    "newDf = pd.merge(left=df2PMCarryOutAccepted, right=df2PMCarryOutTotal, on = ['maritalStatus', 'gender'])\n",
    "newDf['rate'] = newDf['accepted'] / newDf['count']\n",
    "\n",
    "# Printing the datatable for see details\n",
    "print(newDf)\n",
    "\n",
    "# Using bar plot to get a visual comparision for rates \n",
    "sns.barplot(\n",
    "    newDf[['maritalStatus', 'rate', 'gender']], \n",
    "    x='maritalStatus',\n",
    "    y= 'rate',\n",
    "    hue= 'gender'\n",
    ")\n",
    "plt.xticks(rotation = 30)\n",
    "plt.xlabel('Marital Status')\n",
    "plt.ylabel('Accepted coupons (%)')\n",
    "plt.title('Accepted Carry out coupons by Marital Status delivered at 2PM')\n",
    "plt.legend(title='Gender', bbox_to_anchor=(1.05, 1), loc='upper left', borderaxespad=0)\n",
    "\n",
    "plt.savefig('images/7_4.png', bbox_inches = 'tight')\n"
   ]
  },
  {
   "cell_type": "markdown",
   "metadata": {},
   "source": [
    "**Answer:**\n",
    "\n",
    "Based on the above graph `Widowed` people have the best acceptance rate of 100%, however, this is a very small sample of coupons delivered for this category. From observation of the above dataframe resulting, we could observe the `female married` people have more coupons delivered and with higher acceptance rate: `93%`."
   ]
  },
  {
   "cell_type": "markdown",
   "metadata": {},
   "source": [
    "7.5 Evaluate the acceptance rate for Carry out & Take away coupons delivered at 2PM based on income"
   ]
  },
  {
   "cell_type": "code",
   "execution_count": 293,
   "metadata": {},
   "outputs": [
    {
     "name": "stdout",
     "output_type": "stream",
     "text": [
      "   lowerIncome  accepted  count      rate\n",
      "0            0        12     13  0.923077\n",
      "1        12500        36     40  0.900000\n",
      "2        25000        34     38  0.894737\n",
      "3        37500        20     24  0.833333\n",
      "4        50000        28     31  0.903226\n",
      "5        62500        11     12  0.916667\n",
      "6        75000        10     15  0.666667\n",
      "7        87500        12     13  0.923077\n",
      "8       100000        26     32  0.812500\n"
     ]
    },
    {
     "data": {
      "image/png": "[encoded data removed]",
      "text/plain": [
       "<Figure size 640x480 with 1 Axes>"
      ]
     },
     "metadata": {},
     "output_type": "display_data"
    }
   ],
   "source": [
    "# Filtering the data an getting the accepted coupons only\n",
    "dfByIncomeAccepted = df.query('coupon == \"Carry out & Take away\" and time == \"2PM\"').groupby(\n",
    "    ['lowerIncome'])['accepted'].sum('accepted').reset_index()\n",
    "\n",
    "# Filtering the data and getting a count \n",
    "dfByIncomeTotal = df.query('coupon == \"Carry out & Take away\" and time == \"2PM\"').groupby(\n",
    "    ['lowerIncome'])['accepted'].count().reset_index()\n",
    "dfByIncomeTotal = dfByIncomeTotal.rename(columns={ 'accepted': 'count' })\n",
    "\n",
    "# Joining both tables to calculate the rate (accepted coupons / total coupon for this grouping)\n",
    "newDf = pd.merge(left=dfByIncomeAccepted, right=dfByIncomeTotal, on = ['lowerIncome'])\n",
    "newDf['rate'] = newDf['accepted'] / newDf['count']\n",
    "\n",
    "# Printing the datatable for see details\n",
    "print(newDf)\n",
    "\n",
    "# Using bar plot to get a visual comparision for rates \n",
    "sns.barplot(\n",
    "    newDf, \n",
    "    x='lowerIncome',\n",
    "    y= 'rate'\n",
    ")\n",
    "plt.xlabel('Income (Lower range)')\n",
    "plt.ylabel('Acceptance rate (%)')\n",
    "plt.title('Acceptance for carry out coupons delivered at 2PM based on Income')\n",
    "\n",
    "plt.savefig('images/7_5.png', bbox_inches = 'tight')"
   ]
  },
  {
   "cell_type": "markdown",
   "metadata": {},
   "source": [
    "**Answer:**\n",
    "\n",
    "The acceptance rate based on `Income` for the coupon type `Carry out and take away` delivered at `2PM` is very uniform except for people with income between `$75000-$87499`"
   ]
  },
  {
   "cell_type": "markdown",
   "metadata": {},
   "source": [
    "7.6 Evaluate the acceptance rate for Carry out & Take away coupons delivered at 2PM based passenger"
   ]
  },
  {
   "cell_type": "code",
   "execution_count": 403,
   "metadata": {},
   "outputs": [
    {
     "name": "stdout",
     "output_type": "stream",
     "text": [
      "  passenger  accepted  count      rate\n",
      "0     Alone        28     37  0.756757\n",
      "1   Friends       161    181  0.889503\n"
     ]
    },
    {
     "data": {
      "image/png": "[encoded data removed]",
      "text/plain": [
       "<Figure size 640x480 with 1 Axes>"
      ]
     },
     "metadata": {},
     "output_type": "display_data"
    }
   ],
   "source": [
    "# Filtering the data an getting the accepted coupons only\n",
    "dfByPassengerSums = df.query('coupon == \"Carry out & Take away\" and time == \"2PM\"').groupby(\n",
    "    ['passenger'])['accepted'].sum('accepted').reset_index()\n",
    "\n",
    "# Filtering the data and getting a count \n",
    "dfByPassengerCounts = df.query('coupon == \"Carry out & Take away\" and time == \"2PM\"').groupby(\n",
    "    ['passenger'])['accepted'].count().reset_index()\n",
    "dfByPassengerCounts = dfByPassengerCounts.rename(columns={ 'accepted': 'count' })\n",
    "\n",
    "\n",
    "# Joining both tables to calculate the rate (accepted coupons / total coupon for this grouping)\n",
    "newDf = pd.merge(left=dfByPassengerSums, right=dfByPassengerCounts, on = ['passenger'])\n",
    "newDf['rate'] = newDf['accepted'] / newDf['count']\n",
    "\n",
    "# Printing the datatable for see details\n",
    "print(newDf)\n",
    "\n",
    "# Using bar plot to get a visual comparision for rates \n",
    "sns.barplot(\n",
    "    newDf, \n",
    "    x='passenger',\n",
    "    y= 'rate'\n",
    ")\n",
    "plt.xlabel('Passenger Type')\n",
    "plt.ylabel('Acceptance rate (%)')\n",
    "plt.title('Acceptance for carry out coupons delivered at 2PM based on Passenger type')\n",
    "\n",
    "plt.savefig('images/7_6.png', bbox_inches = 'tight')"
   ]
  },
  {
   "cell_type": "markdown",
   "metadata": {},
   "source": [
    "**Answer:**\n",
    "\n",
    "Based on the above observation, drivers traveling with friends around 2PM have a better acceptance rate for \"Carry out and take away\" coupons. The acceptance rate for this group is `89%` compare with drivers traveling alone `76%`"
   ]
  },
  {
   "cell_type": "code",
   "execution_count": null,
   "metadata": {},
   "outputs": [],
   "source": []
  }
 ],
 "metadata": {
  "kernelspec": {
   "display_name": "Python 3 (ipykernel)",
   "language": "python",
   "name": "python3"
  },
  "language_info": {
   "codemirror_mode": {
    "name": "ipython",
    "version": 3
   },
   "file_extension": ".py",
   "mimetype": "text/x-python",
   "name": "python",
   "nbconvert_exporter": "python",
   "pygments_lexer": "ipython3",
   "version": "3.11.5"
  },
  "widgets": {
   "application/vnd.jupyter.widget-state+json": {
    "state": {},
    "version_major": 2,
    "version_minor": 0
   }
  }
 },
 "nbformat": 4,
 "nbformat_minor": 4
}
